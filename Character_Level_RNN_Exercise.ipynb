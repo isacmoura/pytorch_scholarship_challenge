{
  "nbformat": 4,
  "nbformat_minor": 0,
  "metadata": {
    "colab": {
      "name": "Character_Level_RNN_Exercise.ipynb",
      "version": "0.3.2",
      "provenance": [],
      "toc_visible": true,
      "include_colab_link": true
    },
    "kernelspec": {
      "name": "python3",
      "display_name": "Python 3"
    },
    "accelerator": "GPU"
  },
  "cells": [
    {
      "cell_type": "markdown",
      "metadata": {
        "id": "view-in-github",
        "colab_type": "text"
      },
      "source": [
        "<a href=\"https://colab.research.google.com/github/isacmoura/pytorch_scholarship_challenge/blob/master/Character_Level_RNN_Exercise.ipynb\" target=\"_parent\"><img src=\"https://colab.research.google.com/assets/colab-badge.svg\" alt=\"Open In Colab\"/></a>"
      ]
    },
    {
      "metadata": {
        "id": "byjbKIBYp3ZG",
        "colab_type": "text"
      },
      "cell_type": "markdown",
      "source": [
        "# Character-Level LSTM in PyTorch\n",
        "\n",
        "In this notebook, I'll construct a character-level LSTM with PyTorch. The network will train character by character on some text, then generate new text character by character. As an example, I will train on Anna Karenina. **This model will be able to generate new text based on the text from the book!**\n",
        "\n",
        "This network is based off of Andrej Karpathy's [post on RNNs](http://karpathy.github.io/2015/05/21/rnn-effectiveness/) and [implementation in Torch](https://github.com/karpathy/char-rnn)."
      ]
    },
    {
      "metadata": {
        "id": "iXZBmaGup3ZT",
        "colab_type": "text"
      },
      "cell_type": "markdown",
      "source": [
        "First let's load in our required resources for data loading and model creation."
      ]
    },
    {
      "metadata": {
        "id": "mPDdGoNWp3Za",
        "colab_type": "code",
        "colab": {}
      },
      "cell_type": "code",
      "source": [
        "import numpy as np\n",
        "import torch\n",
        "from torch import nn\n",
        "import torch.nn.functional as F"
      ],
      "execution_count": 0,
      "outputs": []
    },
    {
      "metadata": {
        "id": "cUBUdGbQ_jGs",
        "colab_type": "code",
        "outputId": "aec5a5ce-b489-4ec2-a0e0-a4d26034cb41",
        "colab": {
          "base_uri": "https://localhost:8080/",
          "height": 129
        }
      },
      "cell_type": "code",
      "source": [
        "# loading data from my Google Drive\n",
        "from google.colab import drive\n",
        "\n",
        "drive.mount('/content/drive')"
      ],
      "execution_count": 0,
      "outputs": [
        {
          "output_type": "stream",
          "text": [
            "Go to this URL in a browser: https://accounts.google.com/o/oauth2/auth?client_id=947318989803-6bn6qk8qdgf4n4g3pfee6491hc0brc4i.apps.googleusercontent.com&redirect_uri=urn%3Aietf%3Awg%3Aoauth%3A2.0%3Aoob&scope=email%20https%3A%2F%2Fwww.googleapis.com%2Fauth%2Fdocs.test%20https%3A%2F%2Fwww.googleapis.com%2Fauth%2Fdrive%20https%3A%2F%2Fwww.googleapis.com%2Fauth%2Fdrive.photos.readonly%20https%3A%2F%2Fwww.googleapis.com%2Fauth%2Fpeopleapi.readonly&response_type=code\n",
            "\n",
            "Enter your authorization code:\n",
            "··········\n",
            "Mounted at /content/drive\n"
          ],
          "name": "stdout"
        }
      ]
    },
    {
      "metadata": {
        "id": "ibCoNOvaAOTK",
        "colab_type": "code",
        "colab": {}
      },
      "cell_type": "code",
      "source": [
        "root = 'drive/My Drive/Colab Notebooks'"
      ],
      "execution_count": 0,
      "outputs": []
    },
    {
      "metadata": {
        "id": "MXikmgkFp3Z2",
        "colab_type": "text"
      },
      "cell_type": "markdown",
      "source": [
        "## Load in Data\n",
        "\n",
        "Then, we'll load the Anna Karenina text file and convert it into integers for our network to use. "
      ]
    },
    {
      "metadata": {
        "id": "J6lEF3-cp3Z-",
        "colab_type": "code",
        "colab": {}
      },
      "cell_type": "code",
      "source": [
        "# open text file and read in data as `text`\n",
        "with open(root + '/data/anna.txt', 'r') as f:\n",
        "    text = f.read()"
      ],
      "execution_count": 0,
      "outputs": []
    },
    {
      "metadata": {
        "id": "BGI0n0xZp3aR",
        "colab_type": "text"
      },
      "cell_type": "markdown",
      "source": [
        "Let's check out the first 100 characters, make sure everything is peachy. According to the [American Book Review](http://americanbookreview.org/100bestlines.asp), this is the 6th best first line of a book ever."
      ]
    },
    {
      "metadata": {
        "id": "IyekTYXLp3aX",
        "colab_type": "code",
        "outputId": "0e0bccfd-f73b-41f4-f03f-1ea868a153b9",
        "colab": {
          "base_uri": "https://localhost:8080/",
          "height": 35
        }
      },
      "cell_type": "code",
      "source": [
        "text[:100]"
      ],
      "execution_count": 0,
      "outputs": [
        {
          "output_type": "execute_result",
          "data": {
            "text/plain": [
              "'Chapter 1\\n\\n\\nHappy families are all alike; every unhappy family is unhappy in its own\\nway.\\n\\nEverythin'"
            ]
          },
          "metadata": {
            "tags": []
          },
          "execution_count": 10
        }
      ]
    },
    {
      "metadata": {
        "id": "qxUJPzXUp3au",
        "colab_type": "text"
      },
      "cell_type": "markdown",
      "source": [
        "### Tokenization\n",
        "\n",
        "In the cells, below, I'm creating a couple **dictionaries** to convert the characters to and from integers. Encoding the characters as integers makes it easier to use as input in the network."
      ]
    },
    {
      "metadata": {
        "id": "9KuTFNGop3az",
        "colab_type": "code",
        "colab": {}
      },
      "cell_type": "code",
      "source": [
        "# encode the text and map each character to an integer and vice versa\n",
        "\n",
        "# we create two dictionaries:\n",
        "# 1. int2char, which maps integers to characters\n",
        "# 2. char2int, which maps characters to unique integers\n",
        "chars = tuple(set(text))\n",
        "int2char = dict(enumerate(chars))\n",
        "char2int = {ch: ii for ii, ch in int2char.items()}\n",
        "\n",
        "# encode the text\n",
        "encoded = np.array([char2int[ch] for ch in text])"
      ],
      "execution_count": 0,
      "outputs": []
    },
    {
      "metadata": {
        "id": "1F3tOGffp3bA",
        "colab_type": "text"
      },
      "cell_type": "markdown",
      "source": [
        "And we can see those same characters from above, encoded as integers."
      ]
    },
    {
      "metadata": {
        "id": "jKAxd3ulp3bJ",
        "colab_type": "code",
        "outputId": "4c0ef86a-e179-49bd-f31e-45297d472049",
        "colab": {
          "base_uri": "https://localhost:8080/",
          "height": 127
        }
      },
      "cell_type": "code",
      "source": [
        "encoded[:100]"
      ],
      "execution_count": 0,
      "outputs": [
        {
          "output_type": "execute_result",
          "data": {
            "text/plain": [
              "array([71,  1,  5, 66, 42, 55, 25, 11, 39, 64, 64, 64, 45,  5, 66, 66, 20,\n",
              "       11, 23,  5,  8, 44, 79, 44, 55, 81, 11,  5, 25, 55, 11,  5, 79, 79,\n",
              "       11,  5, 79, 44, 70, 55, 17, 11, 55, 35, 55, 25, 20, 11, 78,  0,  1,\n",
              "        5, 66, 66, 20, 11, 23,  5,  8, 44, 79, 20, 11, 44, 81, 11, 78,  0,\n",
              "        1,  5, 66, 66, 20, 11, 44,  0, 11, 44, 42, 81, 11, 65,  6,  0, 64,\n",
              "        6,  5, 20, 28, 64, 64, 52, 35, 55, 25, 20, 42,  1, 44,  0])"
            ]
          },
          "metadata": {
            "tags": []
          },
          "execution_count": 12
        }
      ]
    },
    {
      "metadata": {
        "id": "QbQgtuP5p3bk",
        "colab_type": "text"
      },
      "cell_type": "markdown",
      "source": [
        "## Pre-processing the data\n",
        "\n",
        "Our LSTM expects an input that is **one-hot encoded** meaning that each character is converted into an integer (via our created dictionary) and *then* converted into a column vector where only it's corresponding integer index will have the value of 1 and the rest of the vector will be filled with 0's. Since we're one-hot encoding the data, let's make a function to do that!\n"
      ]
    },
    {
      "metadata": {
        "id": "bTawQP8yp3bt",
        "colab_type": "code",
        "colab": {}
      },
      "cell_type": "code",
      "source": [
        "def one_hot_encode(arr, n_labels):\n",
        "    \n",
        "    # Initialize the the encoded array\n",
        "    one_hot = np.zeros((np.multiply(*arr.shape), n_labels), dtype=np.float32)\n",
        "    \n",
        "    # Fill the appropriate elements with ones\n",
        "    one_hot[np.arange(one_hot.shape[0]), arr.flatten()] = 1.\n",
        "    \n",
        "    # Finally reshape it to get back to the original array\n",
        "    one_hot = one_hot.reshape((*arr.shape, n_labels))\n",
        "    \n",
        "    return one_hot"
      ],
      "execution_count": 0,
      "outputs": []
    },
    {
      "metadata": {
        "id": "JX53_pNap3cD",
        "colab_type": "code",
        "outputId": "45dcefca-09bc-4785-cd45-3f86f408a8b7",
        "colab": {
          "base_uri": "https://localhost:8080/",
          "height": 72
        }
      },
      "cell_type": "code",
      "source": [
        "# check that the function works as expected\n",
        "test_seq = np.array([[3, 5, 1]])\n",
        "one_hot = one_hot_encode(test_seq, 8)\n",
        "\n",
        "print(one_hot)"
      ],
      "execution_count": 0,
      "outputs": [
        {
          "output_type": "stream",
          "text": [
            "[[[0. 0. 0. 1. 0. 0. 0. 0.]\n",
            "  [0. 0. 0. 0. 0. 1. 0. 0.]\n",
            "  [0. 1. 0. 0. 0. 0. 0. 0.]]]\n"
          ],
          "name": "stdout"
        }
      ]
    },
    {
      "metadata": {
        "id": "32DXhdrmp3cj",
        "colab_type": "text"
      },
      "cell_type": "markdown",
      "source": [
        "## Making training mini-batches\n",
        "\n",
        "\n",
        "To train on this data, we also want to create mini-batches for training. Remember that we want our batches to be multiple sequences of some desired number of sequence steps. Considering a simple example, our batches would look like this:\n",
        "\n",
        "<img src=\"assets/sequence_batching@1x.png\" width=500px>\n",
        "\n",
        "\n",
        "<br>\n",
        "\n",
        "In this example, we'll take the encoded characters (passed in as the `arr` parameter) and split them into multiple sequences, given by `batch_size`. Each of our sequences will be `seq_length` long.\n",
        "\n",
        "### Creating Batches\n",
        "\n",
        "**1. The first thing we need to do is discard some of the text so we only have completely full mini-batches. **\n",
        "\n",
        "Each batch contains $N \\times M$ characters, where $N$ is the batch size (the number of sequences in a batch) and $M$ is the seq_length or number of time steps in a sequence. Then, to get the total number of batches, $K$, that we can make from the array `arr`, you divide the length of `arr` by the number of characters per batch. Once you know the number of batches, you can get the total number of characters to keep from `arr`, $N * M * K$.\n",
        "\n",
        "**2. After that, we need to split `arr` into $N$ batches. ** \n",
        "\n",
        "You can do this using `arr.reshape(size)` where `size` is a tuple containing the dimensions sizes of the reshaped array. We know we want $N$ sequences in a batch, so let's make that the size of the first dimension. For the second dimension, you can use `-1` as a placeholder in the size, it'll fill up the array with the appropriate data for you. After this, you should have an array that is $N \\times (M * K)$.\n",
        "\n",
        "**3. Now that we have this array, we can iterate through it to get our mini-batches. **\n",
        "\n",
        "The idea is each batch is a $N \\times M$ window on the $N \\times (M * K)$ array. For each subsequent batch, the window moves over by `seq_length`. We also want to create both the input and target arrays. Remember that the targets are just the inputs shifted over by one character. The way I like to do this window is use `range` to take steps of size `n_steps` from $0$ to `arr.shape[1]`, the total number of tokens in each sequence. That way, the integers you get from `range` always point to the start of a batch, and each window is `seq_length` wide.\n",
        "\n",
        "> **TODO:** Write the code for creating batches in the function below. The exercises in this notebook _will not be easy_. I've provided a notebook with solutions alongside this notebook. If you get stuck, checkout the solutions. The most important thing is that you don't copy and paste the code into here, **type out the solution code yourself.**"
      ]
    },
    {
      "metadata": {
        "id": "R4CGJKTMp3cm",
        "colab_type": "code",
        "colab": {}
      },
      "cell_type": "code",
      "source": [
        "def get_batches(arr, batch_size, seq_length):\n",
        "    '''Create a generator that returns batches of size\n",
        "       batch_size x seq_length from arr.\n",
        "       \n",
        "       Arguments\n",
        "       ---------\n",
        "       arr: Array you want to make batches from\n",
        "       batch_size: Batch size, the number of sequences per batch\n",
        "       seq_length: Number of encoded chars in a sequence\n",
        "    '''\n",
        "    \n",
        "    ## TODO: Get the number of batches we can make\n",
        "    total_size_batch = batch_size * seq_length\n",
        "    n_batches = len(arr) // total_size_batch\n",
        "    \n",
        "    ## TODO: Keep only enough characters to make full batches\n",
        "    arr = arr[:n_batches * total_size_batch]\n",
        "    \n",
        "    ## TODO: Reshape into batch_size rows\n",
        "    arr = arr.reshape(batch_size, -1)\n",
        "    \n",
        "    ## TODO: Iterate over the batches using a window of size seq_length\n",
        "    for n in range(0, arr.shape[1], seq_length):\n",
        "        # The features\n",
        "        x = arr[:, n:n + seq_length]\n",
        "        # The targets, shifted by one\n",
        "        y = np.zeros_like(x)\n",
        "        \n",
        "        try:\n",
        "            y[:, :-1], y[:, -1] = x[:, 1:], arr[:, n+seq_length]\n",
        "        except IndexError:\n",
        "            y[:, :-1], y[:, -1] = x[:, 1:], arr[:, 0]\n",
        "        \n",
        "        yield x, y"
      ],
      "execution_count": 0,
      "outputs": []
    },
    {
      "metadata": {
        "id": "s3UQeiv6p3c1",
        "colab_type": "text"
      },
      "cell_type": "markdown",
      "source": [
        "### Test Your Implementation\n",
        "\n",
        "Now I'll make some data sets and we can check out what's going on as we batch data. Here, as an example, I'm going to use a batch size of 8 and 50 sequence steps."
      ]
    },
    {
      "metadata": {
        "id": "JWulDP86p3c5",
        "colab_type": "code",
        "colab": {}
      },
      "cell_type": "code",
      "source": [
        "batches = get_batches(encoded, 8, 50)\n",
        "x, y = next(batches)"
      ],
      "execution_count": 0,
      "outputs": []
    },
    {
      "metadata": {
        "id": "uqtCeIwSp3dG",
        "colab_type": "code",
        "outputId": "fb10146f-7a13-41a9-869a-5920df02c8d0",
        "colab": {
          "base_uri": "https://localhost:8080/",
          "height": 366
        }
      },
      "cell_type": "code",
      "source": [
        "# printing out the first 10 items in a sequence\n",
        "print('x\\n', x[:10, :10])\n",
        "print('\\ny\\n', y[:10, :10])"
      ],
      "execution_count": 0,
      "outputs": [
        {
          "output_type": "stream",
          "text": [
            "x\n",
            " [[71  1  5 66 42 55 25 11 39 64]\n",
            " [81 65  0 11 42  1  5 42 11  5]\n",
            " [55  0 74 11 65 25 11  5 11 23]\n",
            " [81 11 42  1 55 11 22  1 44 55]\n",
            " [11 81  5  6 11  1 55 25 11 42]\n",
            " [22 78 81 81 44 65  0 11  5  0]\n",
            " [11 43  0  0  5 11  1  5 74 11]\n",
            " [56 40 79 65  0 81 70 20 28 11]]\n",
            "\n",
            "y\n",
            " [[ 1  5 66 42 55 25 11 39 64 64]\n",
            " [65  0 11 42  1  5 42 11  5 42]\n",
            " [ 0 74 11 65 25 11  5 11 23 65]\n",
            " [11 42  1 55 11 22  1 44 55 23]\n",
            " [81  5  6 11  1 55 25 11 42 55]\n",
            " [78 81 81 44 65  0 11  5  0 74]\n",
            " [43  0  0  5 11  1  5 74 11 81]\n",
            " [40 79 65  0 81 70 20 28 11 57]]\n"
          ],
          "name": "stdout"
        }
      ]
    },
    {
      "metadata": {
        "id": "YSHnAzl2p3dj",
        "colab_type": "text"
      },
      "cell_type": "markdown",
      "source": [
        "If you implemented `get_batches` correctly, the above output should look something like \n",
        "```\n",
        "x\n",
        " [[25  8 60 11 45 27 28 73  1  2]\n",
        " [17  7 20 73 45  8 60 45 73 60]\n",
        " [27 20 80 73  7 28 73 60 73 65]\n",
        " [17 73 45  8 27 73 66  8 46 27]\n",
        " [73 17 60 12 73  8 27 28 73 45]\n",
        " [66 64 17 17 46  7 20 73 60 20]\n",
        " [73 76 20 20 60 73  8 60 80 73]\n",
        " [47 35 43  7 20 17 24 50 37 73]]\n",
        "\n",
        "y\n",
        " [[ 8 60 11 45 27 28 73  1  2  2]\n",
        " [ 7 20 73 45  8 60 45 73 60 45]\n",
        " [20 80 73  7 28 73 60 73 65  7]\n",
        " [73 45  8 27 73 66  8 46 27 65]\n",
        " [17 60 12 73  8 27 28 73 45 27]\n",
        " [64 17 17 46  7 20 73 60 20 80]\n",
        " [76 20 20 60 73  8 60 80 73 17]\n",
        " [35 43  7 20 17 24 50 37 73 36]]\n",
        " ```\n",
        " although the exact numbers may be different. Check to make sure the data is shifted over one step for `y`."
      ]
    },
    {
      "metadata": {
        "id": "9Job-dWjp3dq",
        "colab_type": "text"
      },
      "cell_type": "markdown",
      "source": [
        "---\n",
        "## Defining the network with PyTorch\n",
        "\n",
        "Below is where you'll define the network.\n",
        "\n",
        "<img src=\"assets/charRNN.png\" width=500px>\n",
        "\n",
        "Next, you'll use PyTorch to define the architecture of the network. We start by defining the layers and operations we want. Then, define a method for the forward pass. You've also been given a method for predicting characters."
      ]
    },
    {
      "metadata": {
        "id": "dBmA4XRep3du",
        "colab_type": "text"
      },
      "cell_type": "markdown",
      "source": [
        "### Model Structure\n",
        "\n",
        "In `__init__` the suggested structure is as follows:\n",
        "* Create and store the necessary dictionaries (this has been done for you)\n",
        "* Define an LSTM layer that takes as params: an input size (the number of characters), a hidden layer size `n_hidden`, a number of layers `n_layers`, a dropout probability `drop_prob`, and a batch_first boolean (True, since we are batching)\n",
        "* Define a dropout layer with `dropout_prob`\n",
        "* Define a fully-connected layer with params: input size `n_hidden` and output size (the number of characters)\n",
        "* Finally, initialize the weights (again, this has been given)\n",
        "\n",
        "Note that some parameters have been named and given in the `__init__` function, and we use them and store them by doing something like `self.drop_prob = drop_prob`."
      ]
    },
    {
      "metadata": {
        "id": "gZPdWqFlp3dy",
        "colab_type": "text"
      },
      "cell_type": "markdown",
      "source": [
        "---\n",
        "### LSTM Inputs/Outputs\n",
        "\n",
        "You can create a basic [LSTM layer](https://pytorch.org/docs/stable/nn.html#lstm) as follows\n",
        "\n",
        "```python\n",
        "self.lstm = nn.LSTM(input_size, n_hidden, n_layers, \n",
        "                            dropout=drop_prob, batch_first=True)\n",
        "```\n",
        "\n",
        "where `input_size` is the number of characters this cell expects to see as sequential input, and `n_hidden` is the number of units in the hidden layers in the cell. And we can add dropout by adding a dropout parameter with a specified probability; this will automatically add dropout to the inputs or outputs. Finally, in the `forward` function, we can stack up the LSTM cells into layers using `.view`. With this, you pass in a list of cells and it will send the output of one cell into the next cell.\n",
        "\n",
        "We also need to create an initial hidden state of all zeros. This is done like so\n",
        "\n",
        "```python\n",
        "self.init_hidden()\n",
        "```"
      ]
    },
    {
      "metadata": {
        "id": "obV3j6Y-p3d3",
        "colab_type": "code",
        "outputId": "4367d90a-352a-413a-e25d-0efafee31f36",
        "colab": {
          "base_uri": "https://localhost:8080/",
          "height": 35
        }
      },
      "cell_type": "code",
      "source": [
        "# check if GPU is available\n",
        "train_on_gpu = torch.cuda.is_available()\n",
        "if(train_on_gpu):\n",
        "    print('Training on GPU!')\n",
        "else: \n",
        "    print('No GPU available, training on CPU; consider making n_epochs very small.')"
      ],
      "execution_count": 0,
      "outputs": [
        {
          "output_type": "stream",
          "text": [
            "Training on GPU!\n"
          ],
          "name": "stdout"
        }
      ]
    },
    {
      "metadata": {
        "id": "JumDoF8yp3eH",
        "colab_type": "code",
        "colab": {}
      },
      "cell_type": "code",
      "source": [
        "class CharRNN(nn.Module):\n",
        "    \n",
        "    def __init__(self, tokens, n_hidden=256, n_layers=2,\n",
        "                               drop_prob=0.5, lr=0.001):\n",
        "        super().__init__()\n",
        "        self.drop_prob = drop_prob\n",
        "        self.n_layers = n_layers\n",
        "        self.n_hidden = n_hidden\n",
        "        self.lr = lr\n",
        "        \n",
        "        # creating character dictionaries\n",
        "        self.chars = tokens\n",
        "        self.int2char = dict(enumerate(self.chars))\n",
        "        self.char2int = {ch: ii for ii, ch in self.int2char.items()}\n",
        "        \n",
        "        ## TODO: define the layers of the model\n",
        "        #LSTM\n",
        "        self.lstm = nn.LSTM(len(self.chars), n_hidden, n_layers, drop_prob, batch_first = True)\n",
        "        \n",
        "        #Dropout\n",
        "        self.dropout = nn.Dropout(p=drop_prob)\n",
        "        \n",
        "        #Fully-conected\n",
        "        self.fc1 = nn.Linear(n_hidden, len(self.chars))\n",
        "      \n",
        "    \n",
        "    def forward(self, x, hidden):\n",
        "        ''' Forward pass through the network. \n",
        "            These inputs are x, and the hidden/cell state `hidden`. '''\n",
        "                \n",
        "        ## TODO: Get the outputs and the new hidden state from the lstm\n",
        "        output, hidden = self.lstm(x, hidden)\n",
        "        \n",
        "        # Pass through dropout\n",
        "        out = self.dropout(output)\n",
        "        \n",
        "        # It may be necessary to use .contiguous() to reshape the output\n",
        "        out = out.contiguous().view(-1, self.n_hidden)\n",
        "        \n",
        "        # Pass through fc layer\n",
        "        out = self.fc1(out)\n",
        "        \n",
        "        # return the final output and the hidden state\n",
        "        return out, hidden\n",
        "    \n",
        "    \n",
        "    def init_hidden(self, batch_size):\n",
        "        ''' Initializes hidden state '''\n",
        "        # Create two new tensors with sizes n_layers x batch_size x n_hidden,\n",
        "        # initialized to zero, for hidden state and cell state of LSTM\n",
        "        weight = next(self.parameters()).data\n",
        "        \n",
        "        if (train_on_gpu):\n",
        "            hidden = (weight.new(self.n_layers, batch_size, self.n_hidden).zero_().cuda(),\n",
        "                  weight.new(self.n_layers, batch_size, self.n_hidden).zero_().cuda())\n",
        "        else:\n",
        "            hidden = (weight.new(self.n_layers, batch_size, self.n_hidden).zero_(),\n",
        "                      weight.new(self.n_layers, batch_size, self.n_hidden).zero_())\n",
        "        \n",
        "        return hidden\n",
        "        "
      ],
      "execution_count": 0,
      "outputs": []
    },
    {
      "metadata": {
        "id": "iVd4ilDxp3ee",
        "colab_type": "text"
      },
      "cell_type": "markdown",
      "source": [
        "## Time to train\n",
        "\n",
        "The train function gives us the ability to set the number of epochs, the learning rate, and other parameters.\n",
        "\n",
        "Below we're using an Adam optimizer and cross entropy loss since we are looking at character class scores as output. We calculate the loss and perform backpropagation, as usual!\n",
        "\n",
        "A couple of details about training: \n",
        ">* Within the batch loop, we detach the hidden state from its history; this time setting it equal to a new *tuple* variable because an LSTM has a hidden state that is a tuple of the hidden and cell states.\n",
        "* We use [`clip_grad_norm_`](https://pytorch.org/docs/stable/_modules/torch/nn/utils/clip_grad.html) to help prevent exploding gradients."
      ]
    },
    {
      "metadata": {
        "id": "MCvc-Q4Op3eh",
        "colab_type": "code",
        "colab": {}
      },
      "cell_type": "code",
      "source": [
        "def train(net, data, epochs=10, batch_size=10, seq_length=50, lr=0.001, clip=5, val_frac=0.1, print_every=10):\n",
        "    ''' Training a network \n",
        "    \n",
        "        Arguments\n",
        "        ---------\n",
        "        \n",
        "        net: CharRNN network\n",
        "        data: text data to train the network\n",
        "        epochs: Number of epochs to train\n",
        "        batch_size: Number of mini-sequences per mini-batch, aka batch size\n",
        "        seq_length: Number of character steps per mini-batch\n",
        "        lr: learning rate\n",
        "        clip: gradient clipping\n",
        "        val_frac: Fraction of data to hold out for validation\n",
        "        print_every: Number of steps for printing training and validation loss\n",
        "    \n",
        "    '''\n",
        "    net.train()\n",
        "    \n",
        "    opt = torch.optim.Adam(net.parameters(), lr=lr)\n",
        "    criterion = nn.CrossEntropyLoss()\n",
        "    \n",
        "    # create training and validation data\n",
        "    val_idx = int(len(data)*(1-val_frac))\n",
        "    data, val_data = data[:val_idx], data[val_idx:]\n",
        "    \n",
        "    if(train_on_gpu):\n",
        "        net.cuda()\n",
        "    \n",
        "    counter = 0\n",
        "    n_chars = len(net.chars)\n",
        "    for e in range(epochs):\n",
        "        # initialize hidden state\n",
        "        h = net.init_hidden(batch_size)\n",
        "        \n",
        "        for x, y in get_batches(data, batch_size, seq_length):\n",
        "            counter += 1\n",
        "            \n",
        "            # One-hot encode our data and make them Torch tensors\n",
        "            x = one_hot_encode(x, n_chars)\n",
        "            inputs, targets = torch.from_numpy(x), torch.from_numpy(y)\n",
        "            \n",
        "            if(train_on_gpu):\n",
        "                inputs, targets = inputs.cuda(), targets.cuda()\n",
        "\n",
        "            # Creating new variables for the hidden state, otherwise\n",
        "            # we'd backprop through the entire training history\n",
        "            h = tuple([each.data for each in h])\n",
        "\n",
        "            # zero accumulated gradients\n",
        "            net.zero_grad()\n",
        "            \n",
        "            # get the output from the model\n",
        "            output, h = net(inputs, h)\n",
        "            \n",
        "            # calculate the loss and perform backprop\n",
        "            loss = criterion(output, targets.view(batch_size*seq_length))\n",
        "            loss.backward()\n",
        "            # `clip_grad_norm` helps prevent the exploding gradient problem in RNNs / LSTMs.\n",
        "            nn.utils.clip_grad_norm_(net.parameters(), clip)\n",
        "            opt.step()\n",
        "            \n",
        "            # loss stats\n",
        "            if counter % print_every == 0:\n",
        "                # Get validation loss\n",
        "                val_h = net.init_hidden(batch_size)\n",
        "                val_losses = []\n",
        "                net.eval()\n",
        "                for x, y in get_batches(val_data, batch_size, seq_length):\n",
        "                    # One-hot encode our data and make them Torch tensors\n",
        "                    x = one_hot_encode(x, n_chars)\n",
        "                    x, y = torch.from_numpy(x), torch.from_numpy(y)\n",
        "                    \n",
        "                    # Creating new variables for the hidden state, otherwise\n",
        "                    # we'd backprop through the entire training history\n",
        "                    val_h = tuple([each.data for each in val_h])\n",
        "                    \n",
        "                    inputs, targets = x, y\n",
        "                    if(train_on_gpu):\n",
        "                        inputs, targets = inputs.cuda(), targets.cuda()\n",
        "\n",
        "                    output, val_h = net(inputs, val_h)\n",
        "                    val_loss = criterion(output, targets.view(batch_size*seq_length))\n",
        "                \n",
        "                    val_losses.append(val_loss.item())\n",
        "                \n",
        "                net.train() # reset to train mode after iterationg through validation data\n",
        "                \n",
        "                print(\"Epoch: {}/{}...\".format(e+1, epochs),\n",
        "                      \"Step: {}...\".format(counter),\n",
        "                      \"Loss: {:.4f}...\".format(loss.item()),\n",
        "                      \"Val Loss: {:.4f}\".format(np.mean(val_losses)))"
      ],
      "execution_count": 0,
      "outputs": []
    },
    {
      "metadata": {
        "id": "7TQ7nOF7p3e9",
        "colab_type": "text"
      },
      "cell_type": "markdown",
      "source": [
        "## Instantiating the model\n",
        "\n",
        "Now we can actually train the network. First we'll create the network itself, with some given hyperparameters. Then, define the mini-batches sizes, and start training!"
      ]
    },
    {
      "metadata": {
        "id": "fAL0f-DUp3fH",
        "colab_type": "code",
        "outputId": "3d76af8c-55f6-4676-cc5d-3779b3262506",
        "colab": {
          "base_uri": "https://localhost:8080/",
          "height": 109
        }
      },
      "cell_type": "code",
      "source": [
        "## TODO: set you model hyperparameters\n",
        "# define and print the net\n",
        "n_hidden= 256\n",
        "n_layers= 2\n",
        "\n",
        "net = CharRNN(chars, n_hidden, n_layers)\n",
        "print(net)"
      ],
      "execution_count": 0,
      "outputs": [
        {
          "output_type": "stream",
          "text": [
            "CharRNN(\n",
            "  (lstm): LSTM(83, 256, num_layers=2, bias=0.5, batch_first=True)\n",
            "  (dropout): Dropout(p=0.5)\n",
            "  (fc1): Linear(in_features=256, out_features=83, bias=True)\n",
            ")\n"
          ],
          "name": "stdout"
        }
      ]
    },
    {
      "metadata": {
        "id": "HjTb4316p3fm",
        "colab_type": "text"
      },
      "cell_type": "markdown",
      "source": [
        "### Set your training hyperparameters!"
      ]
    },
    {
      "metadata": {
        "scrolled": true,
        "id": "jw2CGQr3p3fz",
        "colab_type": "code",
        "outputId": "d34c41e8-82b3-49c0-fe31-4d1b42481cec",
        "colab": {
          "base_uri": "https://localhost:8080/",
          "height": 1284
        }
      },
      "cell_type": "code",
      "source": [
        "batch_size = 128\n",
        "seq_length = 100\n",
        "n_epochs =  5 # start small if you are just testing initial behavior\n",
        "\n",
        "# train the model\n",
        "train(net, encoded, epochs=n_epochs, batch_size=batch_size, seq_length=seq_length, lr=0.001, print_every=10)"
      ],
      "execution_count": 0,
      "outputs": [
        {
          "output_type": "stream",
          "text": [
            "Epoch: 1/5... Step: 10... Loss: 2.9580... Val Loss: 2.9295\n",
            "Epoch: 1/5... Step: 20... Loss: 2.8190... Val Loss: 2.8115\n",
            "Epoch: 1/5... Step: 30... Loss: 2.7560... Val Loss: 2.7139\n",
            "Epoch: 1/5... Step: 40... Loss: 2.6244... Val Loss: 2.6427\n",
            "Epoch: 1/5... Step: 50... Loss: 2.6161... Val Loss: 2.5625\n",
            "Epoch: 1/5... Step: 60... Loss: 2.5157... Val Loss: 2.5161\n",
            "Epoch: 1/5... Step: 70... Loss: 2.4752... Val Loss: 2.4706\n",
            "Epoch: 1/5... Step: 80... Loss: 2.4394... Val Loss: 2.4283\n",
            "Epoch: 1/5... Step: 90... Loss: 2.4249... Val Loss: 2.3922\n",
            "Epoch: 1/5... Step: 100... Loss: 2.3849... Val Loss: 2.3778\n",
            "Epoch: 1/5... Step: 110... Loss: 2.3466... Val Loss: 2.3378\n",
            "Epoch: 1/5... Step: 120... Loss: 2.2932... Val Loss: 2.3121\n",
            "Epoch: 1/5... Step: 130... Loss: 2.3267... Val Loss: 2.2962\n",
            "Epoch: 2/5... Step: 140... Loss: 2.2952... Val Loss: 2.2713\n",
            "Epoch: 2/5... Step: 150... Loss: 2.2734... Val Loss: 2.2417\n",
            "Epoch: 2/5... Step: 160... Loss: 2.2550... Val Loss: 2.2208\n",
            "Epoch: 2/5... Step: 170... Loss: 2.2083... Val Loss: 2.1979\n",
            "Epoch: 2/5... Step: 180... Loss: 2.1877... Val Loss: 2.1840\n",
            "Epoch: 2/5... Step: 190... Loss: 2.1472... Val Loss: 2.1649\n",
            "Epoch: 2/5... Step: 200... Loss: 2.1467... Val Loss: 2.1456\n",
            "Epoch: 2/5... Step: 210... Loss: 2.1439... Val Loss: 2.1380\n",
            "Epoch: 2/5... Step: 220... Loss: 2.1163... Val Loss: 2.1299\n",
            "Epoch: 2/5... Step: 230... Loss: 2.1179... Val Loss: 2.0989\n",
            "Epoch: 2/5... Step: 240... Loss: 2.1013... Val Loss: 2.0789\n",
            "Epoch: 2/5... Step: 250... Loss: 2.0379... Val Loss: 2.0656\n",
            "Epoch: 2/5... Step: 260... Loss: 2.0197... Val Loss: 2.0505\n",
            "Epoch: 2/5... Step: 270... Loss: 2.0517... Val Loss: 2.0522\n",
            "Epoch: 3/5... Step: 280... Loss: 2.0532... Val Loss: 2.0251\n",
            "Epoch: 3/5... Step: 290... Loss: 2.0290... Val Loss: 2.0111\n",
            "Epoch: 3/5... Step: 300... Loss: 1.9974... Val Loss: 1.9989\n",
            "Epoch: 3/5... Step: 310... Loss: 1.9820... Val Loss: 1.9844\n",
            "Epoch: 3/5... Step: 320... Loss: 1.9607... Val Loss: 1.9738\n",
            "Epoch: 3/5... Step: 330... Loss: 1.9536... Val Loss: 1.9656\n",
            "Epoch: 3/5... Step: 340... Loss: 1.9848... Val Loss: 1.9521\n",
            "Epoch: 3/5... Step: 350... Loss: 1.9679... Val Loss: 1.9472\n",
            "Epoch: 3/5... Step: 360... Loss: 1.8931... Val Loss: 1.9295\n",
            "Epoch: 3/5... Step: 370... Loss: 1.9415... Val Loss: 1.9207\n",
            "Epoch: 3/5... Step: 380... Loss: 1.9213... Val Loss: 1.9089\n",
            "Epoch: 3/5... Step: 390... Loss: 1.9039... Val Loss: 1.9038\n",
            "Epoch: 3/5... Step: 400... Loss: 1.8700... Val Loss: 1.8945\n",
            "Epoch: 3/5... Step: 410... Loss: 1.8870... Val Loss: 1.8884\n",
            "Epoch: 4/5... Step: 420... Loss: 1.8903... Val Loss: 1.8777\n",
            "Epoch: 4/5... Step: 430... Loss: 1.8765... Val Loss: 1.8695\n",
            "Epoch: 4/5... Step: 440... Loss: 1.8632... Val Loss: 1.8594\n",
            "Epoch: 4/5... Step: 450... Loss: 1.8176... Val Loss: 1.8498\n",
            "Epoch: 4/5... Step: 460... Loss: 1.7997... Val Loss: 1.8410\n",
            "Epoch: 4/5... Step: 470... Loss: 1.8423... Val Loss: 1.8303\n",
            "Epoch: 4/5... Step: 480... Loss: 1.8338... Val Loss: 1.8298\n",
            "Epoch: 4/5... Step: 490... Loss: 1.8385... Val Loss: 1.8179\n",
            "Epoch: 4/5... Step: 500... Loss: 1.8375... Val Loss: 1.8089\n",
            "Epoch: 4/5... Step: 510... Loss: 1.8134... Val Loss: 1.8038\n",
            "Epoch: 4/5... Step: 520... Loss: 1.8253... Val Loss: 1.8022\n",
            "Epoch: 4/5... Step: 530... Loss: 1.7897... Val Loss: 1.7915\n",
            "Epoch: 4/5... Step: 540... Loss: 1.7583... Val Loss: 1.7860\n",
            "Epoch: 4/5... Step: 550... Loss: 1.8016... Val Loss: 1.7719\n",
            "Epoch: 5/5... Step: 560... Loss: 1.7664... Val Loss: 1.7720\n",
            "Epoch: 5/5... Step: 570... Loss: 1.7596... Val Loss: 1.7629\n",
            "Epoch: 5/5... Step: 580... Loss: 1.7434... Val Loss: 1.7567\n",
            "Epoch: 5/5... Step: 590... Loss: 1.7375... Val Loss: 1.7497\n",
            "Epoch: 5/5... Step: 600... Loss: 1.7328... Val Loss: 1.7409\n",
            "Epoch: 5/5... Step: 610... Loss: 1.7180... Val Loss: 1.7338\n",
            "Epoch: 5/5... Step: 620... Loss: 1.7216... Val Loss: 1.7361\n",
            "Epoch: 5/5... Step: 630... Loss: 1.7515... Val Loss: 1.7272\n",
            "Epoch: 5/5... Step: 640... Loss: 1.7132... Val Loss: 1.7205\n",
            "Epoch: 5/5... Step: 650... Loss: 1.6950... Val Loss: 1.7165\n",
            "Epoch: 5/5... Step: 660... Loss: 1.6732... Val Loss: 1.7114\n",
            "Epoch: 5/5... Step: 670... Loss: 1.7043... Val Loss: 1.7018\n",
            "Epoch: 5/5... Step: 680... Loss: 1.7120... Val Loss: 1.7019\n",
            "Epoch: 5/5... Step: 690... Loss: 1.6818... Val Loss: 1.6981\n"
          ],
          "name": "stdout"
        }
      ]
    },
    {
      "metadata": {
        "id": "-MYJbJzbp3gF",
        "colab_type": "text"
      },
      "cell_type": "markdown",
      "source": [
        "## Getting the best model\n",
        "\n",
        "To set your hyperparameters to get the best performance, you'll want to watch the training and validation losses. If your training loss is much lower than the validation loss, you're overfitting. Increase regularization (more dropout) or use a smaller network. If the training and validation losses are close, you're underfitting so you can increase the size of the network."
      ]
    },
    {
      "metadata": {
        "id": "HQ9CV9zCp3gI",
        "colab_type": "text"
      },
      "cell_type": "markdown",
      "source": [
        "## Hyperparameters\n",
        "\n",
        "Here are the hyperparameters for the network.\n",
        "\n",
        "In defining the model:\n",
        "* `n_hidden` - The number of units in the hidden layers.\n",
        "* `n_layers` - Number of hidden LSTM layers to use.\n",
        "\n",
        "We assume that dropout probability and learning rate will be kept at the default, in this example.\n",
        "\n",
        "And in training:\n",
        "* `batch_size` - Number of sequences running through the network in one pass.\n",
        "* `seq_length` - Number of characters in the sequence the network is trained on. Larger is better typically, the network will learn more long range dependencies. But it takes longer to train. 100 is typically a good number here.\n",
        "* `lr` - Learning rate for training\n",
        "\n",
        "Here's some good advice from Andrej Karpathy on training the network. I'm going to copy it in here for your benefit, but also link to [where it originally came from](https://github.com/karpathy/char-rnn#tips-and-tricks).\n",
        "\n",
        "> ## Tips and Tricks\n",
        "\n",
        ">### Monitoring Validation Loss vs. Training Loss\n",
        ">If you're somewhat new to Machine Learning or Neural Networks it can take a bit of expertise to get good models. The most important quantity to keep track of is the difference between your training loss (printed during training) and the validation loss (printed once in a while when the RNN is run on the validation data (by default every 1000 iterations)). In particular:\n",
        "\n",
        "> - If your training loss is much lower than validation loss then this means the network might be **overfitting**. Solutions to this are to decrease your network size, or to increase dropout. For example you could try dropout of 0.5 and so on.\n",
        "> - If your training/validation loss are about equal then your model is **underfitting**. Increase the size of your model (either number of layers or the raw number of neurons per layer)\n",
        "\n",
        "> ### Approximate number of parameters\n",
        "\n",
        "> The two most important parameters that control the model are `n_hidden` and `n_layers`. I would advise that you always use `n_layers` of either 2/3. The `n_hidden` can be adjusted based on how much data you have. The two important quantities to keep track of here are:\n",
        "\n",
        "> - The number of parameters in your model. This is printed when you start training.\n",
        "> - The size of your dataset. 1MB file is approximately 1 million characters.\n",
        "\n",
        ">These two should be about the same order of magnitude. It's a little tricky to tell. Here are some examples:\n",
        "\n",
        "> - I have a 100MB dataset and I'm using the default parameter settings (which currently print 150K parameters). My data size is significantly larger (100 mil >> 0.15 mil), so I expect to heavily underfit. I am thinking I can comfortably afford to make `n_hidden` larger.\n",
        "> - I have a 10MB dataset and running a 10 million parameter model. I'm slightly nervous and I'm carefully monitoring my validation loss. If it's larger than my training loss then I may want to try to increase dropout a bit and see if that helps the validation loss.\n",
        "\n",
        "> ### Best models strategy\n",
        "\n",
        ">The winning strategy to obtaining very good models (if you have the compute time) is to always err on making the network larger (as large as you're willing to wait for it to compute) and then try different dropout values (between 0,1). Whatever model has the best validation performance (the loss, written in the checkpoint filename, low is good) is the one you should use in the end.\n",
        "\n",
        ">It is very common in deep learning to run many different models with many different hyperparameter settings, and in the end take whatever checkpoint gave the best validation performance.\n",
        "\n",
        ">By the way, the size of your training and validation splits are also parameters. Make sure you have a decent amount of data in your validation set or otherwise the validation performance will be noisy and not very informative."
      ]
    },
    {
      "metadata": {
        "id": "ZEgXWeExp3gL",
        "colab_type": "text"
      },
      "cell_type": "markdown",
      "source": [
        "## Checkpoint\n",
        "\n",
        "After training, we'll save the model so we can load it again later if we need too. Here I'm saving the parameters needed to create the same architecture, the hidden layer hyperparameters and the text characters."
      ]
    },
    {
      "metadata": {
        "id": "VN2HXX4dp3gQ",
        "colab_type": "code",
        "colab": {}
      },
      "cell_type": "code",
      "source": [
        "# change the name, for saving multiple files\n",
        "model_name = 'rnn_x_epoch.net'\n",
        "\n",
        "checkpoint = {'n_hidden': net.n_hidden,\n",
        "              'n_layers': net.n_layers,\n",
        "              'state_dict': net.state_dict(),\n",
        "              'tokens': net.chars}\n",
        "\n",
        "with open(model_name, 'wb') as f:\n",
        "    torch.save(checkpoint, f)"
      ],
      "execution_count": 0,
      "outputs": []
    },
    {
      "metadata": {
        "id": "bbTkb31ip3gt",
        "colab_type": "text"
      },
      "cell_type": "markdown",
      "source": [
        "---\n",
        "## Making Predictions\n",
        "\n",
        "Now that the model is trained, we'll want to sample from it and make predictions about next characters! To sample, we pass in a character and have the network predict the next character. Then we take that character, pass it back in, and get another predicted character. Just keep doing this and you'll generate a bunch of text!\n",
        "\n",
        "### A note on the `predict`  function\n",
        "\n",
        "The output of our RNN is from a fully-connected layer and it outputs a **distribution of next-character scores**.\n",
        "\n",
        "> To actually get the next character, we apply a softmax function, which gives us a *probability* distribution that we can then sample to predict the next character.\n",
        "\n",
        "### Top K sampling\n",
        "\n",
        "Our predictions come from a categorical probability distribution over all the possible characters. We can make the sample text and make it more reasonable to handle (with less variables) by only considering some $K$ most probable characters. This will prevent the network from giving us completely absurd characters while allowing it to introduce some noise and randomness into the sampled text. Read more about [topk, here](https://pytorch.org/docs/stable/torch.html#torch.topk).\n"
      ]
    },
    {
      "metadata": {
        "id": "-_ohHwSkp3gx",
        "colab_type": "code",
        "colab": {}
      },
      "cell_type": "code",
      "source": [
        "def predict(net, char, h=None, top_k=None):\n",
        "        ''' Given a character, predict the next character.\n",
        "            Returns the predicted character and the hidden state.\n",
        "        '''\n",
        "        \n",
        "        # tensor inputs\n",
        "        x = np.array([[net.char2int[char]]])\n",
        "        x = one_hot_encode(x, len(net.chars))\n",
        "        inputs = torch.from_numpy(x)\n",
        "        \n",
        "        if(train_on_gpu):\n",
        "            inputs = inputs.cuda()\n",
        "        \n",
        "        # detach hidden state from history\n",
        "        h = tuple([each.data for each in h])\n",
        "        # get the output of the model\n",
        "        out, h = net(inputs, h)\n",
        "\n",
        "        # get the character probabilities\n",
        "        p = F.softmax(out, dim=1).data\n",
        "        if(train_on_gpu):\n",
        "            p = p.cpu() # move to cpu\n",
        "        \n",
        "        # get top characters\n",
        "        if top_k is None:\n",
        "            top_ch = np.arange(len(net.chars))\n",
        "        else:\n",
        "            p, top_ch = p.topk(top_k)\n",
        "            top_ch = top_ch.numpy().squeeze()\n",
        "        \n",
        "        # select the likely next character with some element of randomness\n",
        "        p = p.numpy().squeeze()\n",
        "        char = np.random.choice(top_ch, p=p/p.sum())\n",
        "        \n",
        "        # return the encoded value of the predicted char and the hidden state\n",
        "        return net.int2char[char], h"
      ],
      "execution_count": 0,
      "outputs": []
    },
    {
      "metadata": {
        "id": "r5-niNUsp3hF",
        "colab_type": "text"
      },
      "cell_type": "markdown",
      "source": [
        "### Priming and generating text \n",
        "\n",
        "Typically you'll want to prime the network so you can build up a hidden state. Otherwise the network will start out generating characters at random. In general the first bunch of characters will be a little rough since it hasn't built up a long history of characters to predict from."
      ]
    },
    {
      "metadata": {
        "id": "ECxNVsygp3hP",
        "colab_type": "code",
        "colab": {}
      },
      "cell_type": "code",
      "source": [
        "def sample(net, size, prime='The', top_k=None):\n",
        "        \n",
        "    if(train_on_gpu):\n",
        "        net.cuda()\n",
        "    else:\n",
        "        net.cpu()\n",
        "    \n",
        "    net.eval() # eval mode\n",
        "    \n",
        "    # First off, run through the prime characters\n",
        "    chars = [ch for ch in prime]\n",
        "    h = net.init_hidden(1)\n",
        "    for ch in prime:\n",
        "        char, h = predict(net, ch, h, top_k=top_k)\n",
        "\n",
        "    chars.append(char)\n",
        "    \n",
        "    # Now pass in the previous character and get a new one\n",
        "    for ii in range(size):\n",
        "        char, h = predict(net, chars[-1], h, top_k=top_k)\n",
        "        chars.append(char)\n",
        "\n",
        "    return ''.join(chars)"
      ],
      "execution_count": 0,
      "outputs": []
    },
    {
      "metadata": {
        "id": "WrDihqBUp3hX",
        "colab_type": "code",
        "outputId": "2fe874dc-de93-4ad9-ccaf-8c29decfde3d",
        "colab": {
          "base_uri": "https://localhost:8080/",
          "height": 257
        }
      },
      "cell_type": "code",
      "source": [
        "print(sample(net, 1000, prime='Anna', top_k=5))"
      ],
      "execution_count": 0,
      "outputs": [
        {
          "output_type": "stream",
          "text": [
            "Annat of the prestarioss, things, and his firing, so with is he wal terrind at tomend his his coof, the cheess, and say the some, the\n",
            "choodsents at to sert alr the witall him thought of that the was heresess of this than tho care whith she contondention, and staired to a persited at her tomeres, and his\n",
            "folerans of the soing, and antore the stick to she had to somether.\n",
            "\n",
            "Ann seen to the\n",
            "parite and that thas the hasters, whice went as the said to all the sonntisable, but she heardes then. And the preased the concoulded the parying were has been, and so mealy see thought, who came on\n",
            "the seme that the stor all she cound neadess of his\n",
            "coming in the hanting of him. At the seright, and his face of the calles of his handse to his face to has\n",
            "beangs that, and at ouncess than the shoress into her hase wat to she wis she cares on his was a seether\n",
            "andise his hand, and to be to the parsial to him to him, the cometting him.. Bucky as she\n",
            "charding has and the than alouttre at her thingss at\n",
            "he with it\n"
          ],
          "name": "stdout"
        }
      ]
    },
    {
      "metadata": {
        "id": "FHqPMBgop3he",
        "colab_type": "text"
      },
      "cell_type": "markdown",
      "source": [
        "## Loading a checkpoint"
      ]
    },
    {
      "metadata": {
        "id": "7atl-n6mp3hh",
        "colab_type": "code",
        "colab": {}
      },
      "cell_type": "code",
      "source": [
        "# Here we have loaded in a model that trained over 20 epochs `rnn_20_epoch.net`\n",
        "with open('rnn_x_epoch.net', 'rb') as f:\n",
        "    checkpoint = torch.load(f)\n",
        "    \n",
        "loaded = CharRNN(checkpoint['tokens'], n_hidden=checkpoint['n_hidden'], n_layers=checkpoint['n_layers'])\n",
        "loaded.load_state_dict(checkpoint['state_dict'])"
      ],
      "execution_count": 0,
      "outputs": []
    },
    {
      "metadata": {
        "id": "QuBm-sOLp3hp",
        "colab_type": "code",
        "outputId": "ebf01bc3-2fd8-4d40-d682-3d9047d3ccad",
        "colab": {
          "base_uri": "https://localhost:8080/",
          "height": 625
        }
      },
      "cell_type": "code",
      "source": [
        "# Sample using a loaded model\n",
        "print(sample(loaded, 2000, top_k=5, prime=\"And Levin said\"))"
      ],
      "execution_count": 0,
      "outputs": [
        {
          "output_type": "stream",
          "text": [
            "And Levin said. She was sached that stereshing. \"I so manger he\n",
            "hid\n",
            "not seant of the postious of the chain,\" in has the corviared, and who had as the hassed and had a talk of and and she was not the mastilly as the which still to the soming to him. He whined overenesh the harderess at outition of inse one hindiles on the\n",
            "cance tarking the\n",
            "chould son to the dister with a which tranded assitad, wett ond to\n",
            "the man ores intowarded in the\n",
            "beet and starded in the hards, and his for his sickless of\n",
            "the somiegs, but she was not to his frow whote had heasidened.\n",
            "\n",
            "\"I dave to him,\n",
            "were would thas that I'll gray antort to her the care, but a chairs wording. To merest a contisither.\n",
            "Then, woren, at it a danter as the stopling and his bater. At a madrer. Thas that it.,\" the said to him the strow.\"\n",
            "\n",
            "\"Ot's not to to a midine, there wored in the rowing the chourt as she dook, what hull well at the saight to tell your that seet,\n",
            "whilased her head as if his, bat to to bet in the tander in a stirn, as thought... What have his tromester that she would never atain how all at in the could\n",
            "cancess him was a sander, and he smiled hood his hid as and he had becanest and wined heard, and thas a tremsed his wist her fich of the promech of and handing her, were and antwers and the\n",
            "serest a contraction of it was to\n",
            "allott of the propes.\n",
            "\n",
            "\n",
            "That had\n",
            "some he could never with his soming to saik to and his soming, with her\n",
            "amounder a trook to sea of how stepprass and tole to and hem sees to the cane, and his\n",
            "happledsing to the\n",
            "crast at the\n",
            "becaly of the wanting, wouthing the santiculiors, and hears, senting in him, and the morsince he\n",
            "wastened, to had and and\n",
            "hord the samanes and the streng has corming the pandring a sinceress, a word to she saw that he canesting. \"Yas went\n",
            "had, she's not hood all the pary to soom. The rood to me his beat, and antwant, and with\n",
            "his came to the compallattors, with the mother seeting in the sight that\n",
            "some to house and aster over the come, he with the callade of the\n",
            "cond an whene of\n"
          ],
          "name": "stdout"
        }
      ]
    }
  ]
}