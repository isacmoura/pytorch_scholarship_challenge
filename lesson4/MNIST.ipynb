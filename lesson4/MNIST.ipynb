{
 "cells": [
  {
   "cell_type": "markdown",
   "metadata": {},
   "source": [
    "# Neural networks with PyTorch\n",
    "\n",
    "PyTorch has a nice module nn that provides a nice way to efficiently build large neural networks."
   ]
  },
  {
   "cell_type": "code",
   "execution_count": 23,
   "metadata": {},
   "outputs": [],
   "source": [
    "# Import necessary packages\n",
    "\n",
    "%matplotlib inline\n",
    "%config InlineBackend.figure_format = 'retina'\n",
    "\n",
    "import numpy as np\n",
    "import torch\n",
    "\n",
    "import helper\n",
    "\n",
    "import matplotlib.pyplot as plt"
   ]
  },
  {
   "cell_type": "markdown",
   "metadata": {},
   "source": [
    "Now we're going to build a larger network that can solve a (formerly) difficult problem, identifying text in an image. Here we'll use the MNIST dataset which consists of greyscale handwritten digits. Each image is 28x28 pixels.\n",
    "\n",
    "Our goal is to build a neural network that can take one of these images and predict the digit in the image.\n",
    "\n",
    "First up, we need to get our dataset. This is provided through the `torchvision` package. The code below will download the MNIST dataset, then create training and test datasets for us."
   ]
  },
  {
   "cell_type": "code",
   "execution_count": 24,
   "metadata": {},
   "outputs": [],
   "source": [
    "### Run this cell\n",
    "\n",
    "from torchvision import datasets, transforms\n",
    "\n",
    "# Define a transform to normalize the data\n",
    "transform = transforms.Compose([transforms.ToTensor(),\n",
    "                              transforms.Normalize((0.5,), (0.5,)),\n",
    "                              ])\n",
    "\n",
    "# Download and load the training data\n",
    "trainset = datasets.MNIST('~/.pytorch/MNIST_data/', download=True, train=True, transform=transform)\n",
    "trainloader = torch.utils.data.DataLoader(trainset, batch_size=64, shuffle=True)"
   ]
  },
  {
   "cell_type": "markdown",
   "metadata": {},
   "source": [
    "We have the training data loaded into `trainloader` and we make that an iterator with `iter(trainloader)`. Later, we'll use this to loop through the dataset for training, like\n",
    "\n",
    "```python\n",
    "for image, label in trainloader:\n",
    "    ## do things with images and labels\n",
    "```\n",
    "\n",
    "You'll notice I created the `trainloader` with a batch size of 64, and `shuffle=True`. The batch size is the number of images we get in one iteration from the data loader and pass through our network, often called a *batch*. And `shuffle=True` tells it to shuffle the dataset every time we start going through the data loader again. But here I'm just grabbing the first batch so we can check out the data. We can see below that `images` is just a tensor with size `(64, 1, 28, 28)`. So, 64 images per batch, 1 color channel, and 28x28 images."
   ]
  },
  {
   "cell_type": "code",
   "execution_count": 25,
   "metadata": {},
   "outputs": [
    {
     "name": "stdout",
     "output_type": "stream",
     "text": [
      "<class 'torch.Tensor'>\n",
      "torch.Size([64, 1, 28, 28])\n",
      "torch.Size([64])\n"
     ]
    }
   ],
   "source": [
    "dataiter = iter(trainloader)\n",
    "images, labels = dataiter.next()\n",
    "print(type(images))\n",
    "print(images.shape)\n",
    "print(labels.shape)"
   ]
  },
  {
   "cell_type": "markdown",
   "metadata": {},
   "source": [
    "This is what one of the images looks like. "
   ]
  },
  {
   "cell_type": "code",
   "execution_count": 26,
   "metadata": {},
   "outputs": [
    {
     "data": {
      "image/png": "[encoded data removed]",
      "text/plain": [
       "<Figure size 432x288 with 1 Axes>"
      ]
     },
     "metadata": {
      "image/png": {
       "height": 250,
       "width": 253
      }
     },
     "output_type": "display_data"
    }
   ],
   "source": [
    "plt.imshow(images[1].numpy().squeeze(), cmap='Greys_r');"
   ]
  },
  {
   "cell_type": "markdown",
   "metadata": {},
   "source": [
    "First, let's try to build a simple network for this dataset using weight matrices and matrix multiplications. Then, we'll see how to do it using PyTorch's `nn` module which provides a much more convenient and powerful method for defining network architectures.\n",
    "\n",
    "The networks you've seen so far are called *fully-connected* or *dense* networks. Each unit in one layer is connected to each unit in the next layer. In fully-connected networks, the input to each layer must be a one-dimensional vector (which can be stacked into a 2D tensor as a batch of multiple examples). However, our images are 28x28 2D tensors, so we need to convert them into 1D vectors. Thinking about sizes, we need to convert the batch of images with shape `(64, 1, 28, 28)` to a have a shape of `(64, 784)`, 784 is 28 times 28. This is typically called *flattening*, we flattened the 2D images into 1D vectors.\n",
    "\n",
    "Here we need to build 10 output units, one for each digit. We want our network to predict the digit shown in an image, so what we'll do is calculate probabilities that the image is of any one digit or class. This ends up being a discrete probability distribution over the classes (digits) that tells us the most likely class for the image. That means we need 10 output units for the 10 classes (digits). We'll see how to convert the network output into a probability distribution next.\n",
    "\n",
    "> **Exercise:** Flatten the batch of images `images`. Then build a multi-layer network with 784 input units, 256 hidden units, and 10 output units using random tensors for the weights and biases. For now, use a sigmoid activation for the hidden layer. Leave the output layer without an activation, we'll add one that gives us a probability distribution next."
   ]
  },
  {
   "cell_type": "code",
   "execution_count": 29,
   "metadata": {},
   "outputs": [
    {
     "name": "stdout",
     "output_type": "stream",
     "text": [
      "torch.Size([64, 784])\n",
      "tensor([[-6.3711e+00, -5.9822e+00, -3.1237e+00,  1.3960e+01,  1.4017e+01,\n",
      "          5.0075e+00,  6.7685e-01, -2.5306e+01,  4.5646e+00, -2.6621e+01],\n",
      "        [-1.0560e+01,  2.5001e+00, -3.9119e+00,  1.1928e+01,  6.3771e+00,\n",
      "          3.4946e+00, -9.4311e+00, -1.8096e+01, -4.6005e+00, -1.9726e+01],\n",
      "        [-3.6448e+00, -6.9774e-01,  5.0243e+00,  3.4760e+00,  5.5071e+00,\n",
      "          1.8510e+01,  7.7463e+00, -1.1368e+01, -4.3755e+00, -2.4839e+01],\n",
      "        [-1.0795e+00,  2.1608e+00,  1.4368e+01,  4.0845e+00,  1.5521e+01,\n",
      "          1.1217e+01,  4.8158e+00, -2.3321e+01, -7.6436e-01, -1.9542e+01],\n",
      "        [-9.7930e+00, -5.5053e-01,  4.3686e+00,  2.5396e+00,  1.4389e+01,\n",
      "          4.9599e+00, -1.0432e+01, -1.8695e+01, -1.2890e+01, -2.5221e+01],\n",
      "        [ 3.6036e+00, -3.2206e-01,  6.0173e+00, -1.7227e-02,  1.5963e+01,\n",
      "         -5.7077e-01, -8.0537e-01, -2.1639e+01, -9.9192e+00, -2.5768e+01],\n",
      "        [-1.5293e-01,  5.0874e+00,  3.2177e+00,  6.0880e+00,  1.5758e+01,\n",
      "          4.9228e+00,  3.0341e+00, -2.9301e+01,  9.5792e-01, -1.4721e+01],\n",
      "        [-4.7756e+00,  1.7061e+00,  1.0145e+01, -4.4903e+00,  1.9003e+01,\n",
      "          6.9666e+00, -3.3999e+00, -2.0543e+01, -4.3677e+00, -6.2895e+00],\n",
      "        [-1.1136e+01,  3.5053e-01,  6.7759e-01,  5.9926e+00,  9.0185e+00,\n",
      "          4.0934e+00, -5.6771e+00, -1.6999e+01, -3.6584e+00, -1.1759e+01],\n",
      "        [-2.6882e+00,  8.6195e+00,  1.3627e+01,  8.3211e+00,  2.1812e+01,\n",
      "          8.2428e-01, -1.5375e+00, -1.8873e+01, -8.7805e+00, -2.2018e+01],\n",
      "        [-6.9299e+00, -1.6456e+00,  3.8766e+00,  3.2838e+00,  1.7676e+01,\n",
      "          1.3962e+01, -5.6895e+00, -2.0083e+01, -8.2931e+00, -1.7506e+01],\n",
      "        [-1.6769e+01,  4.7283e+00,  6.1077e+00,  1.3613e+01,  1.9086e+01,\n",
      "          3.4088e+00,  2.6535e+00, -1.3133e+01,  1.0931e-01, -2.2103e+01],\n",
      "        [-7.7497e+00, -9.6237e-01,  1.5263e+01,  8.4230e+00,  1.9677e+01,\n",
      "          1.8792e+00, -6.7660e-02, -2.6850e+01,  8.4769e-01, -1.7335e+01],\n",
      "        [ 3.7010e+00,  8.9744e+00,  1.1089e+01, -9.4324e-01,  1.1915e+01,\n",
      "          6.2822e-01,  2.7411e+00, -2.3143e+01,  4.6804e+00, -2.2404e+01],\n",
      "        [-9.8328e+00,  4.0974e-01,  1.4487e+00,  2.5193e+00,  1.5243e+01,\n",
      "          3.7278e+00,  7.3132e+00, -1.8325e+01,  3.8900e+00, -1.6555e+01],\n",
      "        [ 7.7178e+00, -1.9545e+00,  2.6160e+00,  6.9693e+00,  1.7875e+01,\n",
      "         -1.7147e+00, -2.2842e+00, -2.6976e+01, -3.7662e+00, -1.8240e+01],\n",
      "        [-1.0450e+01,  2.0274e+00,  1.9709e+01,  1.2255e+01,  9.2402e+00,\n",
      "          1.0710e+01,  6.4956e+00, -2.0538e+01,  2.2052e+00, -1.2233e+01],\n",
      "        [-7.9538e+00, -4.0803e+00,  3.8788e+00,  1.1147e+01,  8.8206e+00,\n",
      "          7.2764e+00, -3.4708e+00, -2.6446e+01,  7.6099e+00, -2.3913e+01],\n",
      "        [-2.5585e+00,  4.0819e+00,  8.6337e+00,  4.7794e+00,  2.2937e+01,\n",
      "         -2.3012e-01,  1.0512e+00, -2.6385e+01, -1.0374e+01, -2.6712e+01],\n",
      "        [-6.9397e-01,  5.9282e+00,  9.9066e+00,  4.8619e+00,  5.0865e+00,\n",
      "          8.7408e+00,  6.8339e+00, -1.3963e+01,  1.3987e+00, -2.1955e+01],\n",
      "        [-9.5116e-01,  6.1241e+00,  7.4860e+00,  5.2007e+00,  1.7371e+01,\n",
      "          9.6634e+00,  2.3509e+00, -2.1793e+01, -4.9168e+00, -1.4981e+01],\n",
      "        [-1.1442e+01,  6.0978e+00,  1.9421e+01, -5.9938e+00,  1.4177e+01,\n",
      "          2.0432e+00,  4.1882e+00, -2.3987e+01, -2.7211e-01,  1.4267e+00],\n",
      "        [-5.7281e+00,  6.8442e+00,  5.4275e+00,  6.0756e+00,  2.2094e+01,\n",
      "          4.1809e+00,  6.4457e+00, -2.4738e+01,  8.1901e+00, -1.0723e+01],\n",
      "        [-7.1181e+00,  3.1012e-01,  9.1784e+00,  3.9258e+00,  6.2059e+00,\n",
      "          6.4475e+00, -1.4373e+00, -2.5646e+01,  4.4488e+00, -2.0648e+01],\n",
      "        [-5.3946e+00,  6.9939e+00,  2.2077e+01,  2.5230e+00,  1.7225e+01,\n",
      "          3.9321e+00,  7.9663e+00, -2.4700e+01,  2.1874e+01, -1.4202e+01],\n",
      "        [-9.5358e+00,  3.7255e+00,  6.5271e+00,  1.1232e+01,  9.9910e+00,\n",
      "          8.9387e+00,  9.8308e-01, -1.6650e+01,  4.2805e+00, -2.5060e+01],\n",
      "        [ 1.0400e+00, -4.0107e+00,  7.8419e+00,  7.7278e+00,  1.3572e+01,\n",
      "         -8.3382e+00,  4.4432e+00, -2.4296e+01, -4.7158e+00, -1.9350e+01],\n",
      "        [ 1.2915e+00, -9.4382e-01,  7.4957e+00,  6.3073e+00,  2.2797e+01,\n",
      "          1.9292e+00,  5.6472e+00, -2.2233e+01, -5.8427e+00, -2.4169e+01],\n",
      "        [-9.6668e+00,  6.0352e+00,  1.3905e+01,  7.4042e+00,  1.3547e+01,\n",
      "          7.3385e+00, -9.0553e+00, -1.7845e+01, -4.1405e+00, -1.4913e+01],\n",
      "        [ 8.2589e-03,  3.7546e+00,  1.3312e+01,  3.2461e+00,  2.3340e+00,\n",
      "          2.3611e+00, -8.8629e-02, -2.3572e+01, -6.6705e+00, -1.9884e+01],\n",
      "        [-2.3681e-01,  4.8395e+00,  4.1923e+00,  1.3804e+01,  1.7546e+01,\n",
      "          8.0566e+00,  2.1471e+00, -3.1201e+01, -7.7846e-01, -2.0913e+01],\n",
      "        [-4.3752e+00,  5.6098e+00,  3.7808e+00, -7.6081e+00,  7.8537e+00,\n",
      "          1.2382e+00,  7.4904e+00, -2.4991e+01,  8.4931e+00, -1.9191e+01],\n",
      "        [-2.1923e+00, -5.8129e+00,  1.8833e+01,  5.1987e+00,  2.0158e+01,\n",
      "          7.4861e+00, -3.0159e+00, -1.6265e+01, -1.8585e+00, -1.6120e+01],\n",
      "        [-2.0551e+00, -3.8251e+00,  1.5996e+01,  6.6254e+00,  1.5395e+01,\n",
      "          1.0556e+01, -3.7740e+00, -2.6710e+01, -9.9520e-01, -1.9978e+01],\n",
      "        [-9.7610e+00,  3.2382e+00,  1.6282e+01,  5.0106e+00,  9.5904e+00,\n",
      "          6.9041e+00,  1.2919e+01, -1.6414e+01, -1.8137e+01, -1.1675e+01],\n",
      "        [-2.8437e+00,  3.1181e+00,  7.4009e+00,  1.9301e+00,  9.7982e+00,\n",
      "          3.0007e+00,  1.2801e+00, -2.0135e+01,  2.0429e+01, -1.3808e+01],\n",
      "        [-1.9758e+00,  7.6354e+00, -1.8301e+00,  4.8093e+00,  6.9354e+00,\n",
      "         -3.1963e+00, -3.1738e+00, -1.8370e+01,  1.9998e+01, -1.7043e+01],\n",
      "        [-8.7377e+00,  1.9251e-01,  7.8224e+00, -8.4264e+00,  1.8304e+01,\n",
      "          6.4927e+00, -5.1418e+00, -2.1727e+01,  1.2263e+00, -1.5431e+01],\n",
      "        [-1.9250e+00,  9.3947e-01,  5.7134e+00,  6.9741e+00,  5.6139e+00,\n",
      "          7.6776e+00, -3.7977e-01, -2.0396e+01,  1.7595e+00, -2.0192e+01],\n",
      "        [-1.0159e+01,  5.6152e+00,  8.9406e+00, -2.3370e-01,  1.2946e+01,\n",
      "          4.6927e+00, -7.0577e+00, -1.2871e+01, -5.6943e+00, -1.9964e+01],\n",
      "        [-4.4162e+00, -8.2002e+00,  9.6041e+00,  4.9448e+00,  1.9239e+01,\n",
      "          8.0731e+00, -1.2274e+00, -1.9728e+01, -4.8573e+00, -2.1812e+01],\n",
      "        [-1.0684e+01,  1.8561e+00,  1.3489e+01, -1.4149e+00,  1.7485e+01,\n",
      "          1.0643e+00,  3.8177e+00, -1.3591e+01, -3.0642e+00, -1.8915e+01],\n",
      "        [-6.8969e+00,  4.3973e+00,  1.1696e+01,  1.6479e+00,  1.5236e+01,\n",
      "          5.1559e+00, -8.6059e-01, -2.4635e+01,  5.2197e+00, -2.4336e+01],\n",
      "        [-7.0856e+00,  1.1574e+01, -7.9203e+00,  1.1534e+01,  5.4596e+00,\n",
      "          2.7853e-01, -2.3791e+00, -2.6379e+01,  1.1681e+01, -2.1304e+01],\n",
      "        [ 7.8632e-01,  1.9077e+00,  4.2182e-01,  9.2758e+00,  9.1443e+00,\n",
      "          5.0773e+00,  6.6504e+00, -2.6346e+01,  1.6877e+00, -2.1816e+01],\n",
      "        [ 1.5339e+00, -1.0116e+01,  5.3207e+00,  5.1392e+00,  1.9615e+01,\n",
      "          6.7131e+00,  1.0427e+00, -2.2854e+01,  1.4840e+00, -1.8622e+01],\n",
      "        [-8.4849e+00, -1.5844e+00,  1.6789e+01,  9.0496e+00,  1.5485e+01,\n",
      "          8.2555e+00, -2.3423e+00, -2.1786e+01,  3.7570e+00, -2.1835e+01],\n",
      "        [-6.3948e+00,  1.8422e+00,  6.3372e+00,  6.3192e+00,  1.9370e+01,\n",
      "          2.5908e+00, -1.0237e+01, -1.8908e+01, -1.0340e+01, -1.6999e+01],\n",
      "        [-6.5387e-01, -5.6901e+00,  7.9709e+00,  1.2515e+01,  2.0070e+01,\n",
      "          1.9402e+00, -5.2509e+00, -3.1651e+01, -5.6386e+00, -2.1204e+01],\n",
      "        [-1.0438e+01,  1.2096e+01,  4.0660e+00,  1.6932e+01,  6.6972e+00,\n",
      "         -5.7264e+00, -1.9442e+00, -2.3173e+01,  2.2834e+00, -1.8581e+01],\n",
      "        [-3.3361e+00, -4.2646e+00,  7.3277e+00,  1.0764e+00,  2.2261e+01,\n",
      "         -3.0879e+00, -3.8507e-01, -2.7578e+01, -9.4560e+00, -2.3821e+01],\n",
      "        [-1.2353e+01,  7.0688e+00,  7.9512e+00,  6.2225e+00,  2.1398e+01,\n",
      "          4.6972e+00, -3.4791e+00, -2.6803e+01, -1.1716e+01, -1.6350e+01],\n",
      "        [-8.6883e+00,  3.2196e+00,  6.4225e+00,  3.8740e+00,  1.8275e+01,\n",
      "          5.8715e+00, -3.3105e+00, -1.4140e+01, -5.4131e+00, -1.8135e+01],\n",
      "        [-2.7521e+00, -2.5970e+00, -4.6426e+00,  8.4059e+00,  2.4535e+01,\n",
      "          8.9229e+00, -9.7168e+00, -1.8426e+01,  3.5217e-01, -1.4911e+01],\n",
      "        [-2.0891e+00,  9.2525e+00,  2.4957e+00,  4.4806e+00,  7.2605e+00,\n",
      "          5.1730e+00, -1.8825e+00, -1.6383e+01, -5.0896e+00, -1.5474e+01],\n",
      "        [-3.1689e+00, -3.1068e+00,  8.3852e+00,  6.1182e+00,  2.1093e+01,\n",
      "          2.7832e+00, -4.6713e+00, -3.0115e+01, -1.1949e-01, -2.3710e+01],\n",
      "        [-6.4513e+00, -2.1774e+00,  8.3830e+00,  3.4436e+00,  1.3577e+01,\n",
      "          8.0296e+00,  6.0013e-01, -2.2843e+01,  1.4154e+01, -1.8784e+01],\n",
      "        [-2.0351e-01,  4.7873e+00,  1.0032e+01, -1.1543e+00,  8.2261e+00,\n",
      "          5.2538e-03,  6.2753e-01, -2.2810e+01,  7.7810e-01, -1.2066e+01],\n",
      "        [-3.7475e+00,  4.9171e+00,  4.8675e+00,  9.2817e-01,  2.5713e+01,\n",
      "         -1.0222e+00, -2.4602e+00, -2.8682e+01,  6.9000e+00, -1.6134e+01],\n",
      "        [-1.0927e+01,  7.4513e+00,  9.9921e+00,  5.3060e+00,  1.9068e+01,\n",
      "         -4.4007e+00,  7.3825e+00, -2.0514e+01,  4.4763e+00, -1.7969e+01],\n",
      "        [-2.4040e+00,  6.2325e+00, -4.3980e-01,  7.2042e+00,  1.0746e+01,\n",
      "          7.2403e+00,  5.1274e+00, -2.8074e+01, -2.5177e-02, -1.9754e+01],\n",
      "        [ 1.2390e-01,  9.2980e-01,  5.7637e+00, -1.8120e-01,  1.5881e+01,\n",
      "         -4.7288e+00, -6.0734e+00, -2.1306e+01, -4.3125e+00, -2.3541e+01],\n",
      "        [-1.1543e+01,  3.6761e+00,  6.8210e+00,  6.1717e+00,  1.4872e+01,\n",
      "          4.0583e+00,  1.3829e+00, -2.7953e+01,  7.4027e-01, -1.2212e+01],\n",
      "        [-1.1803e+01, -1.2518e+00,  1.2110e+01, -2.4111e+00,  1.3874e+01,\n",
      "         -1.3286e+00, -1.1808e+01, -2.9939e+01,  1.2898e+00, -1.6211e+01]])\n"
     ]
    }
   ],
   "source": [
    "## Your solution\n",
    "inputs = images.view(images.shape[0], -1)\n",
    "\n",
    "print(inputs.shape)\n",
    "\n",
    "# Activation function\n",
    "def sigmoid(x):\n",
    "    y =  1 / (1 + torch.exp(-x))\n",
    "    return y\n",
    "\n",
    "W1 = torch.randn(784, 256)\n",
    "B1 = torch.randn(256)\n",
    "\n",
    "W2 = torch.randn(256, 10)\n",
    "B2 = torch.randn(10)\n",
    "\n",
    "h = sigmoid(torch.mm(inputs, W1) + B1)\n",
    "\n",
    "# output of your network, should have shape (64,10)\n",
    "out = torch.mm(h, W2) + B2\n",
    "print(out)"
   ]
  },
  {
   "cell_type": "code",
   "execution_count": null,
   "metadata": {},
   "outputs": [],
   "source": []
  }
 ],
 "metadata": {
  "kernelspec": {
   "display_name": "Python 3",
   "language": "python",
   "name": "python3"
  },
  "language_info": {
   "codemirror_mode": {
    "name": "ipython",
    "version": 3
   },
   "file_extension": ".py",
   "mimetype": "text/x-python",
   "name": "python",
   "nbconvert_exporter": "python",
   "pygments_lexer": "ipython3",
   "version": "3.6.5"
  }
 },
 "nbformat": 4,
 "nbformat_minor": 2
}
